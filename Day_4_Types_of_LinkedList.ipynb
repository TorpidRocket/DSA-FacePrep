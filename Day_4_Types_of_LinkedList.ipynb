{
  "nbformat": 4,
  "nbformat_minor": 0,
  "metadata": {
    "colab": {
      "provenance": [],
      "authorship_tag": "ABX9TyNJQyIPLFT2rVhNPwxj6vvp",
      "include_colab_link": true
    },
    "kernelspec": {
      "name": "python3",
      "display_name": "Python 3"
    },
    "language_info": {
      "name": "python"
    }
  },
  "cells": [
    {
      "cell_type": "markdown",
      "metadata": {
        "id": "view-in-github",
        "colab_type": "text"
      },
      "source": [
        "<a href=\"https://colab.research.google.com/github/TorpidRocket/DSA-FacePrep/blob/main/Day_4_Types_of_LinkedList.ipynb\" target=\"_parent\"><img src=\"https://colab.research.google.com/assets/colab-badge.svg\" alt=\"Open In Colab\"/></a>"
      ]
    },
    {
      "cell_type": "code",
      "source": [
        "class ListNode:\n",
        "    def __init__(self, val):\n",
        "        self.pvs = None\n",
        "        self.val = val\n",
        "        self.next = None"
      ],
      "metadata": {
        "id": "HXWQ9koIJzTa"
      },
      "execution_count": 2,
      "outputs": []
    },
    {
      "cell_type": "code",
      "execution_count": 7,
      "metadata": {
        "id": "_4KjSY5Lzu9Q"
      },
      "outputs": [],
      "source": [
        "class LinkedList:\n",
        "    def __init__(self):\n",
        "        self.head = None\n",
        "\n",
        "    def insert(self, val):\n",
        "        n = ListNode(val)\n",
        "\n",
        "        if (self.head==None):\n",
        "            self.head = n\n",
        "        else:\n",
        "            temp = self.head\n",
        "            while (temp.next!=None):\n",
        "                temp = temp.next\n",
        "            temp.next = n\n",
        "\n",
        "    def display(self):\n",
        "        temp = self.head\n",
        "        while (temp.next!=None):\n",
        "            print(f\"{temp.val} -> \", end=\"\")\n",
        "            temp = temp.next\n",
        "        print(temp.val)"
      ]
    },
    {
      "cell_type": "code",
      "source": [
        "class DoublyLinkedList(LinkedList):\n",
        "    def __init__(self):\n",
        "        super().__init__()\n",
        "\n",
        "    def insert(self, val):\n",
        "        n = ListNode(val)\n",
        "        if self.head==None:\n",
        "            self.head = n\n",
        "        else:\n",
        "            temp = self.head\n",
        "            while(temp.next!=None):\n",
        "                temp = temp.next\n",
        "            curr = temp\n",
        "            temp.next = n\n",
        "            temp = temp.next\n",
        "            temp.pvs = curr\n",
        "\n",
        "    def display(self):\n",
        "        temp = self.head\n",
        "        while(temp.next!=None):\n",
        "            print(f\"{temp.val} <-> \", end =\"\")\n",
        "            temp = temp.next\n",
        "        print(temp.val)\n",
        "\n",
        "    def rev_display(self):\n",
        "        temp = self.head\n",
        "        while(temp.next!=None):\n",
        "            temp = temp.next\n",
        "\n",
        "        while(temp.pvs!=None):\n",
        "            print(f\"{temp.val} <-> \", end =\"\")\n",
        "            temp = temp.pvs\n",
        "        print(temp.val)\n",
        "\n",
        "\n"
      ],
      "metadata": {
        "id": "5bBOOyPp0BYh"
      },
      "execution_count": 14,
      "outputs": []
    },
    {
      "cell_type": "code",
      "source": [
        "class CyclicLinkedList:"
      ],
      "metadata": {
        "id": "FrbwcCIQ0EA5"
      },
      "execution_count": null,
      "outputs": []
    },
    {
      "cell_type": "code",
      "source": [
        "class CyclicDoublyLinkedList:"
      ],
      "metadata": {
        "id": "fiJfc4Ru0HTZ"
      },
      "execution_count": null,
      "outputs": []
    },
    {
      "cell_type": "code",
      "source": [
        "arr = [3, 1, 5, 9, 7, 8, 4]"
      ],
      "metadata": {
        "id": "J1jOS7E57Hpg"
      },
      "execution_count": 11,
      "outputs": []
    },
    {
      "cell_type": "code",
      "source": [
        "ll = LinkedList()\n",
        "for i in arr:\n",
        "    ll.insert(i)\n",
        "ll.display()"
      ],
      "metadata": {
        "colab": {
          "base_uri": "https://localhost:8080/"
        },
        "id": "jNfZZqlf7xj9",
        "outputId": "b55b66fe-97db-4367-c857-2d23c678f8fc"
      },
      "execution_count": 9,
      "outputs": [
        {
          "output_type": "stream",
          "name": "stdout",
          "text": [
            "3 -> 1 -> 5 -> 9 -> 7 -> 8 -> 4\n"
          ]
        }
      ]
    },
    {
      "cell_type": "code",
      "source": [
        "dll = DoublyLinkedList()\n",
        "for i in arr:\n",
        "    dll.insert(i)\n",
        "dll.display()\n",
        "dll.rev_display()\n"
      ],
      "metadata": {
        "colab": {
          "base_uri": "https://localhost:8080/"
        },
        "id": "GYgr2f8QJMXH",
        "outputId": "0661620f-b45a-43a6-88cb-01b89b381707"
      },
      "execution_count": 15,
      "outputs": [
        {
          "output_type": "stream",
          "name": "stdout",
          "text": [
            "3 <-> 1 <-> 5 <-> 9 <-> 7 <-> 8 <-> 4\n",
            "4 <-> 8 <-> 7 <-> 9 <-> 5 <-> 1 <-> 3\n"
          ]
        }
      ]
    }
  ]
}