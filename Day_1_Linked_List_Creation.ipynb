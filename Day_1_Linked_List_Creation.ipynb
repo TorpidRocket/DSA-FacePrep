{
  "nbformat": 4,
  "nbformat_minor": 0,
  "metadata": {
    "colab": {
      "provenance": [],
      "authorship_tag": "ABX9TyMxeGeXsOydCqdggxRmwC2T",
      "include_colab_link": true
    },
    "kernelspec": {
      "name": "python3",
      "display_name": "Python 3"
    },
    "language_info": {
      "name": "python"
    }
  },
  "cells": [
    {
      "cell_type": "markdown",
      "metadata": {
        "id": "view-in-github",
        "colab_type": "text"
      },
      "source": [
        "<a href=\"https://colab.research.google.com/github/TorpidRocket/DSA-FacePrep/blob/main/Day_1_Linked_List_Creation.ipynb\" target=\"_parent\"><img src=\"https://colab.research.google.com/assets/colab-badge.svg\" alt=\"Open In Colab\"/></a>"
      ]
    },
    {
      "cell_type": "markdown",
      "source": [
        "ListNode"
      ],
      "metadata": {
        "id": "fOgDqz21jWQN"
      }
    },
    {
      "cell_type": "code",
      "source": [
        "class ListNode:\n",
        "    def __init__(self, val = 0):\n",
        "        self.val = val\n",
        "        self.next = None"
      ],
      "metadata": {
        "id": "w9GR1CB2jQAZ"
      },
      "execution_count": null,
      "outputs": []
    },
    {
      "cell_type": "markdown",
      "source": [
        "LinkedList"
      ],
      "metadata": {
        "id": "v4Y5m38-jY_-"
      }
    },
    {
      "cell_type": "code",
      "execution_count": 5,
      "metadata": {
        "id": "XW67IeyFgzVV"
      },
      "outputs": [],
      "source": [
        "class LinkedList:\n",
        "    def __init__(self):\n",
        "        self.root = None\n",
        "\n",
        "    def insert(self, val):\n",
        "        node = ListNode(val)\n",
        "        if self.root == None:\n",
        "            self.root = node\n",
        "        else:\n",
        "            temp = self.root\n",
        "            while(temp.next!=None):\n",
        "                temp = temp.next\n",
        "            temp.next = node\n",
        "        #print(f\"{val} inserted\")\n",
        "\n",
        "    def display(self):\n",
        "        temp = self.root\n",
        "        while(temp.next!=None):\n",
        "            print(f\"{temp.val} -> \", end=\"\")\n",
        "            temp = temp.next\n",
        "        print(temp.val)"
      ]
    },
    {
      "cell_type": "markdown",
      "source": [
        "LinkedList Creation"
      ],
      "metadata": {
        "id": "_dVZbZiJjbJO"
      }
    },
    {
      "cell_type": "code",
      "source": [
        "ll = LinkedList()\n",
        "arr = [3, 1, 5, 8, 4, 7]\n",
        "for i in arr:\n",
        "    ll.insert(i)\n",
        "ll.display()"
      ],
      "metadata": {
        "colab": {
          "base_uri": "https://localhost:8080/"
        },
        "id": "aA3mb3OuivkB",
        "outputId": "558859e9-e998-40be-fd78-0c5885f04512"
      },
      "execution_count": 6,
      "outputs": [
        {
          "output_type": "stream",
          "name": "stdout",
          "text": [
            "3 inserted\n",
            "1 inserted\n",
            "5 inserted\n",
            "8 inserted\n",
            "4 inserted\n",
            "7 inserted\n",
            "3 -> 1 -> 5 -> 8 -> 4 -> 7\n"
          ]
        }
      ]
    }
  ]
}