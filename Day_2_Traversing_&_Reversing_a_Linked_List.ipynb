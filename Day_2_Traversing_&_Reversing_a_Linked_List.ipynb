{
  "nbformat": 4,
  "nbformat_minor": 0,
  "metadata": {
    "colab": {
      "provenance": [],
      "authorship_tag": "ABX9TyNQTfh0mZ3vmXK3hJ8l1zmt",
      "include_colab_link": true
    },
    "kernelspec": {
      "name": "python3",
      "display_name": "Python 3"
    },
    "language_info": {
      "name": "python"
    }
  },
  "cells": [
    {
      "cell_type": "markdown",
      "metadata": {
        "id": "view-in-github",
        "colab_type": "text"
      },
      "source": [
        "<a href=\"https://colab.research.google.com/github/TorpidRocket/DSA-FacePrep/blob/main/Day_2_Traversing_%26_Reversing_a_Linked_List.ipynb\" target=\"_parent\"><img src=\"https://colab.research.google.com/assets/colab-badge.svg\" alt=\"Open In Colab\"/></a>"
      ]
    },
    {
      "cell_type": "markdown",
      "source": [
        "List Node"
      ],
      "metadata": {
        "id": "HJsPsqGArAI-"
      }
    },
    {
      "cell_type": "code",
      "execution_count": 4,
      "metadata": {
        "id": "2mDZ_nsum8tz"
      },
      "outputs": [],
      "source": [
        "class ListNode:\n",
        "    def __init__(self, val=0):\n",
        "        self.val = val\n",
        "        self.next = None"
      ]
    },
    {
      "cell_type": "markdown",
      "source": [
        "Linked List"
      ],
      "metadata": {
        "id": "Giokt4tZno-d"
      }
    },
    {
      "cell_type": "code",
      "source": [
        "class LinkedList:\n",
        "\n",
        "    def __init__(self):\n",
        "        self.head = None\n",
        "\n",
        "    def insert(self, val):\n",
        "        n = ListNode(val)\n",
        "\n",
        "        if self.head==None:\n",
        "            self.head = n\n",
        "        else:\n",
        "            temp = self.head\n",
        "            while(temp.next!=None):\n",
        "                temp = temp.next\n",
        "            temp.next = n\n",
        "        print(f\"{val} inserted\")\n",
        "\n",
        "    def display(self):\n",
        "        temp = self.head\n",
        "        while(temp.next!=None):\n",
        "            print(f\"{temp.val} -> \", end=\"\")\n",
        "            temp = temp.next\n",
        "        print(temp.val)\n",
        "\n",
        "    def reverse(self):\n",
        "        pvs = None\n",
        "        curr = self.head\n",
        "\n",
        "        while (curr!=None):\n",
        "            temp = curr.next\n",
        "            curr.next = pvs\n",
        "            pvs = curr\n",
        "            curr = temp\n",
        "\n",
        "        self.head = pvs"
      ],
      "metadata": {
        "id": "fXEc-VDLnq6U"
      },
      "execution_count": 24,
      "outputs": []
    },
    {
      "cell_type": "markdown",
      "source": [
        "```\n",
        "if self.head==None:\n",
        "    self.head = n\n",
        "else:\n",
        "    temp = self.head\n",
        "    while(temp!=None):\n",
        "        temp = temp.next\n",
        "    temp = n\n",
        "```\n",
        "This coded doesn't work since it just re-declares temp = n, making no linkage with previous node"
      ],
      "metadata": {
        "id": "KDS4ToGHrl3_"
      }
    },
    {
      "cell_type": "markdown",
      "source": [
        "Linked List Reversal"
      ],
      "metadata": {
        "id": "ZTt5PQBnpSJB"
      }
    },
    {
      "cell_type": "code",
      "source": [
        "ll = LinkedList()\n",
        "\n",
        "arr = [9, 3, 4, 1, 7, 8, 3]\n",
        "for i in arr:\n",
        "    ll.insert(i)\n",
        "\n",
        "ll.display()\n",
        "ll.reverse()\n",
        "ll.display()"
      ],
      "metadata": {
        "colab": {
          "base_uri": "https://localhost:8080/"
        },
        "id": "hLGToUHppSha",
        "outputId": "c62985f8-1e9c-4f74-ae74-80fa650e7303"
      },
      "execution_count": 25,
      "outputs": [
        {
          "output_type": "stream",
          "name": "stdout",
          "text": [
            "9 inserted\n",
            "3 inserted\n",
            "4 inserted\n",
            "1 inserted\n",
            "7 inserted\n",
            "8 inserted\n",
            "3 inserted\n",
            "9 -> 3 -> 4 -> 1 -> 7 -> 8 -> 3\n",
            "3 -> 8 -> 7 -> 1 -> 4 -> 3 -> 9\n"
          ]
        }
      ]
    }
  ]
}