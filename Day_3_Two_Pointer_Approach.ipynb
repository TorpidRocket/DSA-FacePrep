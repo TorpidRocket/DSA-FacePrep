{
  "nbformat": 4,
  "nbformat_minor": 0,
  "metadata": {
    "colab": {
      "provenance": [],
      "authorship_tag": "ABX9TyPC2tinXEMA2wzJSmahC3+E",
      "include_colab_link": true
    },
    "kernelspec": {
      "name": "python3",
      "display_name": "Python 3"
    },
    "language_info": {
      "name": "python"
    }
  },
  "cells": [
    {
      "cell_type": "markdown",
      "metadata": {
        "id": "view-in-github",
        "colab_type": "text"
      },
      "source": [
        "<a href=\"https://colab.research.google.com/github/TorpidRocket/DSA-FacePrep/blob/main/Day_3_Two_Pointer_Approach.ipynb\" target=\"_parent\"><img src=\"https://colab.research.google.com/assets/colab-badge.svg\" alt=\"Open In Colab\"/></a>"
      ]
    },
    {
      "cell_type": "markdown",
      "source": [
        "ListNode"
      ],
      "metadata": {
        "id": "WwOmVY-Js240"
      }
    },
    {
      "cell_type": "code",
      "source": [
        "class ListNode:\n",
        "    def __init__(self, val = 0):\n",
        "        self.val = val\n",
        "        self.next = None"
      ],
      "metadata": {
        "id": "k7zRBxpns69N"
      },
      "execution_count": 6,
      "outputs": []
    },
    {
      "cell_type": "markdown",
      "source": [
        "Linked List"
      ],
      "metadata": {
        "id": "E5LsC8nrtaF2"
      }
    },
    {
      "cell_type": "code",
      "source": [
        "class LinkedList:\n",
        "    def __init__(self):\n",
        "        self.head = None\n",
        "\n",
        "    def insert(self, value):\n",
        "        n = ListNode(value)\n",
        "        if self.head == None:\n",
        "            self.head = n\n",
        "\n",
        "        else:\n",
        "            temp = self.head\n",
        "            while(temp.next!=None):\n",
        "                temp = temp.next\n",
        "            temp.next = n\n",
        "        print(f\"{value} inserted\")\n",
        "\n",
        "    def display(self):\n",
        "        temp = self.head\n",
        "        while temp.next:\n",
        "            print(f\"{temp.val} -> \", end=\"\")\n",
        "            temp = temp.next\n",
        "        print(temp.val)\n",
        "\n",
        "    def check_cycles(self):\n",
        "        slow = self.head\n",
        "        fast = self.head\n",
        "        print(\"Fast and Slow initialized\")\n",
        "        while(fast and fast.next):\n",
        "            slow = slow.next   #Flloyd Algorithm\n",
        "            fast = fast.next.next\n",
        "            print(\"Slow: \", slow.val, \", Fast: \", fast.val, sep=\"\")\n",
        "            if (slow==fast):\n",
        "                return True\n",
        "        print(\"List Ended\")\n",
        "        return False\n",
        "\n",
        "    def middle_node(self):\n",
        "        slow = self.head\n",
        "        fast = self.head\n",
        "\n",
        "        while fast and fast.next:\n",
        "            slow = slow.next\n",
        "            fast = fast.next.next\n",
        "\n",
        "        return slow.val"
      ],
      "metadata": {
        "id": "1uKyMObXtar9"
      },
      "execution_count": 27,
      "outputs": []
    },
    {
      "cell_type": "markdown",
      "source": [
        "Cyclic Linked List"
      ],
      "metadata": {
        "id": "-OQTAQNjyeLa"
      }
    },
    {
      "cell_type": "code",
      "source": [
        "class CyclicLinkedList(LinkedList):\n",
        "    def __init__(self):\n",
        "        super().__init__()\n",
        "        self.count = 0 #No. of nodes\n",
        "\n",
        "    def insert(self, val):\n",
        "        n = ListNode(val)\n",
        "        if self.head==None:\n",
        "            self.head = n\n",
        "            self.head.next = self.head\n",
        "        else:\n",
        "            temp = self.head\n",
        "            i = 1\n",
        "            while (i<self.count):\n",
        "                temp = temp.next\n",
        "                i+=1\n",
        "            temp.next = n\n",
        "            temp.next.next = self.head\n",
        "        self.count+=1\n",
        "\n",
        "    def display(self):\n",
        "        i = 1\n",
        "        temp = self.head\n",
        "        while i<self.count :\n",
        "            print(f\"{temp.val} -> \", end=\"\")\n",
        "            temp = temp.next\n",
        "            i+=1\n",
        "        print(f\"{temp.val} -> H\")\n"
      ],
      "metadata": {
        "id": "x9z59pPPxjb5"
      },
      "execution_count": 28,
      "outputs": []
    },
    {
      "cell_type": "code",
      "source": [
        "arr = [3, 4, 8, 6, 1, 2, 9]\n",
        "arr2 = arr[::-1]+[7]"
      ],
      "metadata": {
        "id": "QD08_CzuxDdC"
      },
      "execution_count": 37,
      "outputs": []
    },
    {
      "cell_type": "code",
      "source": [
        "ll = LinkedList()\n",
        "\n",
        "for i in arr:\n",
        "    ll.insert(i)\n",
        "\n",
        "ll.display()"
      ],
      "metadata": {
        "colab": {
          "base_uri": "https://localhost:8080/"
        },
        "id": "IKR-bcs7yHXD",
        "outputId": "3b0d8715-855e-42e3-ed38-e405107c28a2"
      },
      "execution_count": 29,
      "outputs": [
        {
          "output_type": "stream",
          "name": "stdout",
          "text": [
            "3 inserted\n",
            "4 inserted\n",
            "8 inserted\n",
            "6 inserted\n",
            "1 inserted\n",
            "2 inserted\n",
            "9 inserted\n",
            "3 -> 4 -> 8 -> 6 -> 1 -> 2 -> 9\n"
          ]
        }
      ]
    },
    {
      "cell_type": "code",
      "source": [
        "cll = CyclicLinkedList()\n",
        "\n",
        "for i in arr:\n",
        "    cll.insert(i)\n",
        "\n",
        "cll.display()"
      ],
      "metadata": {
        "colab": {
          "base_uri": "https://localhost:8080/"
        },
        "id": "Jq4ciaVFyFtL",
        "outputId": "73ab2827-a588-4fc3-85cb-f0e8cfc334de"
      },
      "execution_count": 30,
      "outputs": [
        {
          "output_type": "stream",
          "name": "stdout",
          "text": [
            "3 -> 4 -> 8 -> 6 -> 1 -> 2 -> 9 -> H\n"
          ]
        }
      ]
    },
    {
      "cell_type": "markdown",
      "source": [
        "Detecting Cycles in Linked List"
      ],
      "metadata": {
        "id": "dxmZuuKfstbp"
      }
    },
    {
      "cell_type": "code",
      "source": [
        "ll.display()"
      ],
      "metadata": {
        "colab": {
          "base_uri": "https://localhost:8080/"
        },
        "id": "y0_rIOzEyNSj",
        "outputId": "79e8e504-d065-4428-da8b-a114c32f8e68"
      },
      "execution_count": 31,
      "outputs": [
        {
          "output_type": "stream",
          "name": "stdout",
          "text": [
            "3 -> 4 -> 8 -> 6 -> 1 -> 2 -> 9\n"
          ]
        }
      ]
    },
    {
      "cell_type": "code",
      "source": [
        "ll.check_cycles()"
      ],
      "metadata": {
        "colab": {
          "base_uri": "https://localhost:8080/"
        },
        "id": "taOIwzJLyRIq",
        "outputId": "9cc640d2-5a83-440d-a89e-cfa9c8bbfbad"
      },
      "execution_count": 32,
      "outputs": [
        {
          "output_type": "stream",
          "name": "stdout",
          "text": [
            "Fast and Slow initialized\n",
            "Slow: 4, Fast: 8\n",
            "Slow: 8, Fast: 1\n",
            "Slow: 6, Fast: 9\n",
            "List Ended\n"
          ]
        },
        {
          "output_type": "execute_result",
          "data": {
            "text/plain": [
              "False"
            ]
          },
          "metadata": {},
          "execution_count": 32
        }
      ]
    },
    {
      "cell_type": "code",
      "source": [
        "cll.display()"
      ],
      "metadata": {
        "colab": {
          "base_uri": "https://localhost:8080/"
        },
        "id": "aPyf4gfJxgVj",
        "outputId": "f96bdb82-f6d5-4c77-93ff-aa009fc44b14"
      },
      "execution_count": 33,
      "outputs": [
        {
          "output_type": "stream",
          "name": "stdout",
          "text": [
            "3 -> 4 -> 8 -> 6 -> 1 -> 2 -> 9 -> H\n"
          ]
        }
      ]
    },
    {
      "cell_type": "code",
      "execution_count": 34,
      "metadata": {
        "colab": {
          "base_uri": "https://localhost:8080/"
        },
        "id": "qQl8F9u6sauK",
        "outputId": "408e58df-6ef3-42b2-da6d-89474053e003"
      },
      "outputs": [
        {
          "output_type": "stream",
          "name": "stdout",
          "text": [
            "Fast and Slow initialized\n",
            "Slow: 4, Fast: 8\n",
            "Slow: 8, Fast: 1\n",
            "Slow: 6, Fast: 9\n",
            "Slow: 1, Fast: 4\n",
            "Slow: 2, Fast: 6\n",
            "Slow: 9, Fast: 2\n",
            "Slow: 3, Fast: 3\n"
          ]
        },
        {
          "output_type": "execute_result",
          "data": {
            "text/plain": [
              "True"
            ]
          },
          "metadata": {},
          "execution_count": 34
        }
      ],
      "source": [
        "cll.check_cycles()"
      ]
    },
    {
      "cell_type": "code",
      "source": [
        "m = ll.middle_node()\n",
        "ll.display()\n",
        "print(m)"
      ],
      "metadata": {
        "colab": {
          "base_uri": "https://localhost:8080/"
        },
        "id": "5BUaRkXsxlhi",
        "outputId": "97469313-bb2f-42d5-a6fe-f9f832d4dc1e"
      },
      "execution_count": 38,
      "outputs": [
        {
          "output_type": "stream",
          "name": "stdout",
          "text": [
            "3 -> 4 -> 8 -> 6 -> 1 -> 2 -> 9\n",
            "6\n"
          ]
        }
      ]
    },
    {
      "cell_type": "code",
      "source": [
        "ll2 = LinkedList()\n",
        "\n",
        "for i in arr2:\n",
        "    ll2.insert(i)\n",
        "\n",
        "ll2.display()"
      ],
      "metadata": {
        "colab": {
          "base_uri": "https://localhost:8080/"
        },
        "id": "oKNqRCsizCvj",
        "outputId": "9ace0942-9dc8-4e41-a5dd-51c9026dfa79"
      },
      "execution_count": 42,
      "outputs": [
        {
          "output_type": "stream",
          "name": "stdout",
          "text": [
            "9 inserted\n",
            "2 inserted\n",
            "1 inserted\n",
            "6 inserted\n",
            "8 inserted\n",
            "4 inserted\n",
            "3 inserted\n",
            "7 inserted\n",
            "9 -> 2 -> 1 -> 6 -> 8 -> 4 -> 3 -> 7\n"
          ]
        }
      ]
    },
    {
      "cell_type": "code",
      "source": [
        "m2 = ll2.middle_node()\n",
        "ll2.display()\n",
        "print(m2)"
      ],
      "metadata": {
        "colab": {
          "base_uri": "https://localhost:8080/"
        },
        "id": "hxLx2mipzUeb",
        "outputId": "65e3f4c9-1069-429f-b50a-d2fcacc8f890"
      },
      "execution_count": 43,
      "outputs": [
        {
          "output_type": "stream",
          "name": "stdout",
          "text": [
            "9 -> 2 -> 1 -> 6 -> 8 -> 4 -> 3 -> 7\n",
            "8\n"
          ]
        }
      ]
    }
  ]
}